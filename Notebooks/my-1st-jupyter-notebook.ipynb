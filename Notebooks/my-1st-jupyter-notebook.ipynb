{
 "cells": [
  {
   "cell_type": "code",
   "execution_count": 1,
   "id": "d2bca31c",
   "metadata": {},
   "outputs": [
    {
     "data": {
      "text/plain": [
       "array([[14, 73, 24],\n",
       "       [90,  4, 62],\n",
       "       [45, 36, 60],\n",
       "       [72, 21, 15],\n",
       "       [94, 31, 62],\n",
       "       [41, 73, 86],\n",
       "       [12, 57, 91],\n",
       "       [48, 38, 46],\n",
       "       [57,  2,  3],\n",
       "       [77, 31, 15]], dtype=int32)"
      ]
     },
     "metadata": {},
     "output_type": "display_data"
    }
   ],
   "source": [
    "import numpy as np\n",
    "from IPython.display import display\n",
    "\n",
    "# Create a numpy array with shape (10, 3) filled with random integers\n",
    "my_array = np.random.randint(0, 100, size=(10, 3))\n",
    "\n",
    "# Display the array\n",
    "display(my_array)\n"
   ]
  },
  {
   "cell_type": "code",
   "execution_count": null,
   "id": "f83dde6a",
   "metadata": {},
   "outputs": [],
   "source": []
  }
 ],
 "metadata": {
  "kernelspec": {
   "display_name": "Python 3 (ipykernel)",
   "language": "python",
   "name": "python3"
  },
  "language_info": {
   "codemirror_mode": {
    "name": "ipython",
    "version": 3
   },
   "file_extension": ".py",
   "mimetype": "text/x-python",
   "name": "python",
   "nbconvert_exporter": "python",
   "pygments_lexer": "ipython3",
   "version": "3.9.7"
  }
 },
 "nbformat": 4,
 "nbformat_minor": 5
}
