{
 "cells": [
  {
   "cell_type": "code",
   "execution_count": 2,
   "id": "86664cbc",
   "metadata": {
    "scrolled": true
   },
   "outputs": [
    {
     "name": "stdout",
     "output_type": "stream",
     "text": [
      "{'rmse': 0.24}\n"
     ]
    }
   ],
   "source": [
    "import sys\n",
    "sys.path.append('C:/Users/Ananya/dsp-ananya-gownivari-ravindrareddy')\n",
    "import pandas as pd\n",
    "from house_prices.train import build_model\n",
    " \n",
    "training_data_df = pd.read_csv('C:/Users/Ananya/Downloads/sem 2/DSP/train.csv')\n",
    "model_performance_dict = build_model(training_data_df)\n",
    "print(model_performance_dict)"
   ]
  },
  {
   "cell_type": "code",
   "execution_count": 5,
   "id": "a94c2859",
   "metadata": {},
   "outputs": [
    {
     "name": "stdout",
     "output_type": "stream",
     "text": [
      "[152370.80467766 152959.990287   198033.80315601 ... 155866.77850004\n",
      " 174304.28024307 174197.56207823]\n"
     ]
    }
   ],
   "source": [
    "import pandas as pd\n",
    "from house_prices.inference import make_predictions\n",
    " \n",
    "user_data_df = pd.read_csv('C:/Users/Ananya/Downloads/sem 2/DSP/test.csv')\n",
    "predictions = make_predictions(user_data_df)\n",
    "print(predictions)\n"
   ]
  },
  {
   "cell_type": "code",
   "execution_count": null,
   "id": "49688825",
   "metadata": {},
   "outputs": [],
   "source": []
  }
 ],
 "metadata": {
  "kernelspec": {
   "display_name": "Python 3 (ipykernel)",
   "language": "python",
   "name": "python3"
  },
  "language_info": {
   "codemirror_mode": {
    "name": "ipython",
    "version": 3
   },
   "file_extension": ".py",
   "mimetype": "text/x-python",
   "name": "python",
   "nbconvert_exporter": "python",
   "pygments_lexer": "ipython3",
   "version": "3.9.7"
  }
 },
 "nbformat": 4,
 "nbformat_minor": 5
}
